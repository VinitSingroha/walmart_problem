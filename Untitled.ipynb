{
 "cells": [
  {
   "cell_type": "code",
   "execution_count": null,
   "id": "f9892d1e-dea6-43e9-8cd6-77d3d607447d",
   "metadata": {},
   "outputs": [],
   "source": [
    "import pandas as pd\n",
    "import numpy as np"
   ]
  },
  {
   "cell_type": "code",
   "execution_count": null,
   "id": "a0a7f47d-3b49-446a-841b-dd65eca1f299",
   "metadata": {},
   "outputs": [],
   "source": [
    "\n",
    "def haversine(lat1, lon1, lat2, lon2):\n",
    "    R = 6371  # radius of Earth in kilometers\n",
    "    phi1 = np.radians(lat1)\n",
    "    phi2 = np.radians(lat2)\n",
    "    delta_phi = np.radians(lat2 - lat1)\n",
    "    delta_lambda = np.radians(lon2 - lon1)\n",
    "    a = np.sin(delta_phi / 2) ** 2 + np.cos(phi1) * np.cos(phi2) * np.sin(delta_lambda / 2) ** 2\n",
    "    res = R * (2 * np.arctan2(np.sqrt(a), np.sqrt(1 - a)))\n",
    "    return np.round(res, 2)\n"
   ]
  },
  {
   "cell_type": "code",
   "execution_count": null,
   "id": "cabe4aa2-8b79-4f0e-bcb8-c83b500b49be",
   "metadata": {},
   "outputs": [],
   "source": [
    "\n",
    "\n",
    "def calculate_total_distance(route, distances):\n",
    "    total_distance = 0\n",
    "    for i in range(len(route) - 1):\n",
    "        start_node = route[i]\n",
    "        end_node = route[i + 1]\n",
    "        total_distance += distances[start_node][end_node]\n",
    "    return total_distance\n"
   ]
  },
  {
   "cell_type": "code",
   "execution_count": null,
   "id": "0295998c-3195-4df4-b77a-da4ef7b1e970",
   "metadata": {
    "tags": []
   },
   "outputs": [],
   "source": [
    "\n",
    "\n",
    "def find_best_delivery_route(customers, depot_lat, depot_lng):\n",
    "    num_customers = len(customers)\n",
    "    nodes = list(range(num_customers))  \n",
    "    depot_node = num_customers  \n",
    "    distances = np.zeros((num_customers + 1, num_customers + 1))\n",
    "    for i in range(num_customers):\n",
    "        distances[depot_node][i] = haversine(depot_lat, depot_lng, customers[i][1], customers[i][2])\n",
    "        distances[i][depot_node] = distances[depot_node][i]\n",
    "\n",
    "    for i in range(num_customers):\n",
    "        for j in range(i + 1, num_customers):\n",
    "            distances[i][j] = haversine(customers[i][1], customers[i][2], customers[j][1], customers[j][2])\n",
    "            distances[j][i] = distances[i][j]\n",
    "\n",
    "    memo = {}\n",
    "\n",
    "    def dp(curr_node, visited):\n",
    "        if (curr_node, visited) in memo:\n",
    "            return memo[(curr_node, visited)]\n",
    "\n",
    "        if visited == (1 << num_customers) - 1:  \n",
    "            return distances[curr_node][depot_node]\n",
    "\n",
    "        min_distance = float('inf')\n",
    "        for next_node in range(num_customers):\n",
    "            if visited & (1 << next_node) == 0:  \n",
    "                new_visited = visited | (1 << next_node)\n",
    "                distance = distances[curr_node][next_node] + dp(next_node, new_visited)\n",
    "                min_distance = min(min_distance, distance)\n",
    "\n",
    "        memo[(curr_node, visited)] = min_distance\n",
    "        return min_distance\n",
    "\n",
    "    min_distance = float('inf')\n",
    "    for start_node in range(num_customers):\n",
    "        distance = dp(start_node, 1 << start_node)\n",
    "        min_distance = min(min_distance, distance)\n",
    "\n",
    "    return min_distance"
   ]
  },
  {
   "cell_type": "code",
   "execution_count": null,
   "id": "b52535f9-78b1-4e16-bedb-7fc209158ac2",
   "metadata": {},
   "outputs": [],
   "source": [
    "\n",
    "\n",
    "def read_data_from_csv(file_path):\n",
    "    data = pd.read_csv(file_path)\n",
    "    depot_lat = data.iloc[0, 3]\n",
    "    depot_lng = data.iloc[0, 4]\n",
    "    return depot_lat, depot_lng, data.values.tolist()\n",
    "\n",
    "output_results = []\n",
    "\n",
    "for i in range(5,6):\n",
    "    input_csv_path = f\"part_a_input_dataset_{i}.csv\"\n",
    "    depot_lat, depot_lng, data = read_data_from_csv(input_csv_path)\n",
    "    customers = [(row[0], row[2], row[1]) for row in data]\n",
    "    min_distance = find_best_delivery_route(customers, depot_lat, depot_lng)\n",
    "    output_results.append((f\"part_a_input_dataset_{i}\", min_distance))\n",
    "\n",
    "df_output = pd.DataFrame(output_results, columns=['Dataset', 'Best Route Distance'])\n",
    "df_output.to_csv(\"part_a_best_routes_distance_travelled.csv\", index=False)\n",
    "\n"
   ]
  }
 ],
 "metadata": {
  "kernelspec": {
   "display_name": "Python 3 (ipykernel)",
   "language": "python",
   "name": "python3"
  },
  "language_info": {
   "codemirror_mode": {
    "name": "ipython",
    "version": 3
   },
   "file_extension": ".py",
   "mimetype": "text/x-python",
   "name": "python",
   "nbconvert_exporter": "python",
   "pygments_lexer": "ipython3",
   "version": "3.11.5"
  }
 },
 "nbformat": 4,
 "nbformat_minor": 5
}
